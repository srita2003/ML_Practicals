{
  "nbformat": 4,
  "nbformat_minor": 0,
  "metadata": {
    "colab": {
      "provenance": [],
      "authorship_tag": "ABX9TyNUFr5gokPW4YydCLyEVVZ3",
      "include_colab_link": true
    },
    "kernelspec": {
      "name": "python3",
      "display_name": "Python 3"
    },
    "language_info": {
      "name": "python"
    }
  },
  "cells": [
    {
      "cell_type": "markdown",
      "metadata": {
        "id": "view-in-github",
        "colab_type": "text"
      },
      "source": [
        "<a href=\"https://colab.research.google.com/github/srita2003/ML_Practicals/blob/main/ML_prac2ipynb.ipynb\" target=\"_parent\"><img src=\"https://colab.research.google.com/assets/colab-badge.svg\" alt=\"Open In Colab\"/></a>"
      ]
    },
    {
      "cell_type": "code",
      "execution_count": null,
      "metadata": {
        "id": "DuhW7fBeaqM7"
      },
      "outputs": [],
      "source": [
        "# Import necessary libraries\n",
        "import pandas as pd"
      ]
    },
    {
      "cell_type": "code",
      "source": [
        "input_file_path = '/content/Online Sales Data.csv'  # Input CSV file path\n",
        "output_file_path = '/content/updated_sales_data.csv'  # Output CSV file path"
      ],
      "metadata": {
        "id": "S86tzZoPbBnN"
      },
      "execution_count": null,
      "outputs": []
    },
    {
      "cell_type": "code",
      "source": [
        "# Step 1: Import data from CSV\n",
        "sales_data = pd.read_csv(input_file_path)\n",
        "print(\"Data imported successfully!\")\n",
        "print(\"\\nInitial Data Preview:\\n\", sales_data.head())"
      ],
      "metadata": {
        "colab": {
          "base_uri": "https://localhost:8080/"
        },
        "id": "xyG2x2DFdO9t",
        "outputId": "a76a9759-3139-4318-a7ff-f3379dcab0cd"
      },
      "execution_count": null,
      "outputs": [
        {
          "output_type": "stream",
          "name": "stdout",
          "text": [
            "Data imported successfully!\n",
            "\n",
            "Initial Data Preview:\n",
            "    Transaction ID        Date Product Category             Product Name  \\\n",
            "0           10001  2024-01-01      Electronics            iPhone 14 Pro   \n",
            "1           10002  2024-01-02  Home Appliances         Dyson V11 Vacuum   \n",
            "2           10003  2024-01-03         Clothing         Levi's 501 Jeans   \n",
            "3           10004  2024-01-04            Books        The Da Vinci Code   \n",
            "4           10005  2024-01-05  Beauty Products  Neutrogena Skincare Set   \n",
            "\n",
            "   Units Sold  Unit Price  Total Revenue         Region Payment Method  \n",
            "0           2      999.99        1999.98  North America    Credit Card  \n",
            "1           1      499.99         499.99         Europe         PayPal  \n",
            "2           3       69.99         209.97           Asia     Debit Card  \n",
            "3           4       15.99          63.96  North America    Credit Card  \n",
            "4           1       89.99          89.99         Europe         PayPal  \n"
          ]
        }
      ]
    },
    {
      "cell_type": "code",
      "source": [
        "sales_data.isnull().sum()"
      ],
      "metadata": {
        "colab": {
          "base_uri": "https://localhost:8080/",
          "height": 429
        },
        "id": "Gasgq3cOhq4X",
        "outputId": "5a333ad2-25b8-4c27-8c28-988514bbe8fc"
      },
      "execution_count": null,
      "outputs": [
        {
          "output_type": "execute_result",
          "data": {
            "text/plain": [
              "Transaction ID      0\n",
              "Date                0\n",
              "Product Category    0\n",
              "Product Name        0\n",
              "Units Sold          0\n",
              "Unit Price          0\n",
              "Total Revenue       0\n",
              "Region              0\n",
              "Payment Method      0\n",
              "Sales Tax           0\n",
              "Total Sales         0\n",
              "dtype: int64"
            ],
            "text/html": [
              "<div>\n",
              "<style scoped>\n",
              "    .dataframe tbody tr th:only-of-type {\n",
              "        vertical-align: middle;\n",
              "    }\n",
              "\n",
              "    .dataframe tbody tr th {\n",
              "        vertical-align: top;\n",
              "    }\n",
              "\n",
              "    .dataframe thead th {\n",
              "        text-align: right;\n",
              "    }\n",
              "</style>\n",
              "<table border=\"1\" class=\"dataframe\">\n",
              "  <thead>\n",
              "    <tr style=\"text-align: right;\">\n",
              "      <th></th>\n",
              "      <th>0</th>\n",
              "    </tr>\n",
              "  </thead>\n",
              "  <tbody>\n",
              "    <tr>\n",
              "      <th>Transaction ID</th>\n",
              "      <td>0</td>\n",
              "    </tr>\n",
              "    <tr>\n",
              "      <th>Date</th>\n",
              "      <td>0</td>\n",
              "    </tr>\n",
              "    <tr>\n",
              "      <th>Product Category</th>\n",
              "      <td>0</td>\n",
              "    </tr>\n",
              "    <tr>\n",
              "      <th>Product Name</th>\n",
              "      <td>0</td>\n",
              "    </tr>\n",
              "    <tr>\n",
              "      <th>Units Sold</th>\n",
              "      <td>0</td>\n",
              "    </tr>\n",
              "    <tr>\n",
              "      <th>Unit Price</th>\n",
              "      <td>0</td>\n",
              "    </tr>\n",
              "    <tr>\n",
              "      <th>Total Revenue</th>\n",
              "      <td>0</td>\n",
              "    </tr>\n",
              "    <tr>\n",
              "      <th>Region</th>\n",
              "      <td>0</td>\n",
              "    </tr>\n",
              "    <tr>\n",
              "      <th>Payment Method</th>\n",
              "      <td>0</td>\n",
              "    </tr>\n",
              "    <tr>\n",
              "      <th>Sales Tax</th>\n",
              "      <td>0</td>\n",
              "    </tr>\n",
              "    <tr>\n",
              "      <th>Total Sales</th>\n",
              "      <td>0</td>\n",
              "    </tr>\n",
              "  </tbody>\n",
              "</table>\n",
              "</div><br><label><b>dtype:</b> int64</label>"
            ]
          },
          "metadata": {},
          "execution_count": 7
        }
      ]
    },
    {
      "cell_type": "code",
      "source": [
        "# Step 2: Perform basic data cleaning and modification\n",
        "# Adding a new column for sales tax (assuming a flat tax rate of 10%)\n",
        "sales_data['Sales Tax'] = sales_data['Total Revenue'] * 0.10\n",
        "sales_data['Total Sales'] = sales_data['Total Revenue'] + sales_data['Sales Tax']\n",
        "print(\"\\nData after adding Sales Tax and Total Sales columns:\\n\", sales_data.head())"
      ],
      "metadata": {
        "colab": {
          "base_uri": "https://localhost:8080/"
        },
        "id": "gNMh31YTdbPW",
        "outputId": "d5c80a18-3e4e-4540-d8f9-7739d4d98342"
      },
      "execution_count": null,
      "outputs": [
        {
          "output_type": "stream",
          "name": "stdout",
          "text": [
            "\n",
            "Data after adding Sales Tax and Total Sales columns:\n",
            "    Transaction ID        Date Product Category             Product Name  \\\n",
            "0           10001  2024-01-01      Electronics            iPhone 14 Pro   \n",
            "1           10002  2024-01-02  Home Appliances         Dyson V11 Vacuum   \n",
            "2           10003  2024-01-03         Clothing         Levi's 501 Jeans   \n",
            "3           10004  2024-01-04            Books        The Da Vinci Code   \n",
            "4           10005  2024-01-05  Beauty Products  Neutrogena Skincare Set   \n",
            "\n",
            "   Units Sold  Unit Price  Total Revenue         Region Payment Method  \\\n",
            "0           2      999.99        1999.98  North America    Credit Card   \n",
            "1           1      499.99         499.99         Europe         PayPal   \n",
            "2           3       69.99         209.97           Asia     Debit Card   \n",
            "3           4       15.99          63.96  North America    Credit Card   \n",
            "4           1       89.99          89.99         Europe         PayPal   \n",
            "\n",
            "   Sales Tax  Total Sales  \n",
            "0    199.998     2199.978  \n",
            "1     49.999      549.989  \n",
            "2     20.997      230.967  \n",
            "3      6.396       70.356  \n",
            "4      8.999       98.989  \n"
          ]
        }
      ]
    },
    {
      "cell_type": "code",
      "source": [
        "# Step 3: Export the updated DataFrame to a new CSV file\n",
        "sales_data.to_csv(output_file_path, index=False)\n",
        "print(f\"\\nUpdated data exported successfully to {output_file_path}\")"
      ],
      "metadata": {
        "colab": {
          "base_uri": "https://localhost:8080/"
        },
        "id": "LWbzPnSweHJi",
        "outputId": "537d8243-9bea-4346-8bc7-b3590984634e"
      },
      "execution_count": null,
      "outputs": [
        {
          "output_type": "stream",
          "name": "stdout",
          "text": [
            "\n",
            "Updated data exported successfully to /content/updated_sales_data.csv\n"
          ]
        }
      ]
    }
  ]
}